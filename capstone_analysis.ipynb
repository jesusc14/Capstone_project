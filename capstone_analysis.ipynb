{
 "cells": [
  {
   "cell_type": "code",
   "execution_count": 2,
   "metadata": {},
   "outputs": [],
   "source": [
    "import pandas as pd\n",
    "from geopy.distance import distance"
   ]
  },
  {
   "cell_type": "code",
   "execution_count": 9,
   "metadata": {},
   "outputs": [],
   "source": [
    "df = pd.read_csv('King_County_Tax_Parcel_Centroids_with_select_City_of_Seattle_geographic_overlays.csv', low_memory=False)\n"
   ]
  },
  {
   "cell_type": "code",
   "execution_count": 11,
   "metadata": {},
   "outputs": [],
   "source": [
    "def is_near_single_family_home(df, lat_col, lon_col):\n",
    "    # Get the coordinates of all the single-family homes\n",
    "    single_family_homes = [(lat1, lon1), (lat2, lon2), ...]\n",
    "    \n",
    "    # Check if each location in the dataframe is within 500 meters of any single-family home\n",
    "    for index, row in df.iterrows():\n",
    "        lat = row[lat_col]\n",
    "        lon = row[lon_col]\n",
    "        for home in single_family_homes:\n",
    "            if distance((lat, lon), home).meters <= 500:\n",
    "                return True\n",
    "    return False\n",
    "\n"
   ]
  },
  {
   "cell_type": "code",
   "execution_count": 13,
   "metadata": {},
   "outputs": [
    {
     "data": {
      "text/plain": [
       "array(['Retail Store', 'Apartment', 'Single Family(C/I Use)', 'Duplex',\n",
       "       'Apartment(Mixed Use)', 'Single Family(Res Use/Zone)', 'Triplex',\n",
       "       'Townhouse Plat', 'Tavern/Lounge', 'Vacant(Single-family)',\n",
       "       '4-Plex', 'Church/Welfare/Relig Srvc', 'Single Family(C/I Zone)',\n",
       "       'Condominium(Residential)', 'Unknown', 'Parking(Assoc)',\n",
       "       'Vacant(Multi-family)', 'Condominium(Mixed Use)',\n",
       "       'Utility, Public', 'Bank', 'Office Building',\n",
       "       'Medical/Dental Office', 'School(Public)',\n",
       "       'Right of Way/Utility, Road', 'Park, Public(Zoo/Arbor)',\n",
       "       'Vacant(Industrial)', 'Warehouse', 'Industrial(Gen Purpose)',\n",
       "       'Governmental Service', 'Terminal(Marine/Comm Fish)',\n",
       "       'Industrial(Heavy)', 'Industrial(Lignt)', 'School(Private)',\n",
       "       'Residence Hall/Dorm', 'Vacant(Commercial)', 'Service Building',\n",
       "       'Restaurant(Fast Food)', 'Retail(Discount)', 'Service Station',\n",
       "       'Retail(Line/Strip)', 'Conv Store with Gas',\n",
       "       'Parking(Commercial Lot)', 'Easement', 'Group Home',\n",
       "       'Rooming House', 'Vet/Animal Control Srvc', 'Sport Facility',\n",
       "       'Water Body, Fresh', 'Auto Showroom and Lot', 'Marina',\n",
       "       'Golf Course', 'Apartment(Subsidized)', 'Hotel/Motel',\n",
       "       'Mini Warehouse', 'Mobile Home Park', 'Terminal(Auto/Bus/Other)',\n",
       "       'Shopping Ctr(Nghbrhood)', 'Nursing Home', 'Terminal(Marine)',\n",
       "       'Industrial Park', 'Tideland, 1st Class', 'Club',\n",
       "       'Restaurant/Lounge', 'Historic Prop(Office)', 'Congregate Housing',\n",
       "       'Movie Theater', 'Shell Structure', 'Grocery Store',\n",
       "       'Auditorium//Assembly Bldg', 'Rehabilitation Center',\n",
       "       'Parking(Garage)', 'Utility, Private(Radio/T.V.)',\n",
       "       'Historic Prop(Retail)', 'Historic Prop(Rec/Entertain)',\n",
       "       'Car Wash', 'Art Gallery/Museum/Soc Srvc', 'Retirement Facility',\n",
       "       'Condominium(Office)', 'Apartment(Co-op)',\n",
       "       'Fraternity/Sorority House', 'Mortuary/Cemetery/Crematory',\n",
       "       'Shopping Ctr(Community)', 'Shopping Ctr(Maj Retail)',\n",
       "       'Historic Prop(Residence)', 'Historic Prop(Misc)',\n",
       "       'Post Office/Post Service', 'Mini Lube', 'Bowling Alley',\n",
       "       'Park, Private(Amuse Ctr)', 'Health Club', 'Daycare Center',\n",
       "       'Hospital', 'Houseboat', 'Terminal(Rail)',\n",
       "       'Conv Store without Gas', 'Gas Station', 'Tideland, 2nd Class',\n",
       "       'High Tech/High Flex', 'Mobile Home', 'Retail(Big Box)',\n",
       "       'Historic Prop(Eat/Drink)', 'Transferable Dev Rights',\n",
       "       'Reserve/Wilderness Area', 'Greenhse/Nrsry/Hort Srvc',\n",
       "       'Air Terminal and Hangers', 'River/Creek/Stream',\n",
       "       'Shopping Ctr(Regional)', 'Skating Rink(Ice/Roller)',\n",
       "       'Driving Range', 'Historic Prop(Vacant Land)', 'Bed & Breakfast',\n",
       "       'Historic Prop(Loft/Warehse)', 'Office Park'], dtype=object)"
      ]
     },
     "execution_count": 13,
     "metadata": {},
     "output_type": "execute_result"
    }
   ],
   "source": [
    "df['LAND_USE_CODE'].dtypes\n",
    "df['LAND_USE_CODE'].unique()\n",
    "df['PRES_USE'].unique()\n",
    "\n"
   ]
  }
 ],
 "metadata": {
  "kernelspec": {
   "display_name": "Python 3",
   "language": "python",
   "name": "python3"
  },
  "language_info": {
   "codemirror_mode": {
    "name": "ipython",
    "version": 3
   },
   "file_extension": ".py",
   "mimetype": "text/x-python",
   "name": "python",
   "nbconvert_exporter": "python",
   "pygments_lexer": "ipython3",
   "version": "3.10.4"
  },
  "orig_nbformat": 4
 },
 "nbformat": 4,
 "nbformat_minor": 2
}
