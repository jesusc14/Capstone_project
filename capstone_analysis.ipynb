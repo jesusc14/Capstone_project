{
 "cells": [
  {
   "cell_type": "code",
<<<<<<< HEAD
   "execution_count": 1,
=======
   "execution_count": 2,
>>>>>>> parent of 11070be (added python files)
   "metadata": {},
   "outputs": [],
   "source": [
    "from google.transit import gtfs_realtime_pb2\n",
    "import requests"
   ]
  },
  {
   "cell_type": "code",
   "execution_count": 2,
   "metadata": {},
   "outputs": [
    {
     "data": {
      "text/plain": [
       "615469"
      ]
     },
     "execution_count": 2,
     "metadata": {},
     "output_type": "execute_result"
    }
   ],
   "source": [
    "feed = gtfs_realtime_pb2.FeedMessage()\n",
    "# requests will fetch the results from a url, in this case, the positions of all Kingston's buses\n",
    "response = requests.get('https://s3.amazonaws.com/kcm-alerts-realtime-prod/tripupdates.pb')\n",
    "feed.ParseFromString(response.content)"
   ]
  },
  {
   "cell_type": "code",
   "execution_count": 3,
   "metadata": {},
   "outputs": [
    {
     "name": "stdout",
     "output_type": "stream",
     "text": [
      "There are 773 buses in the dataset.\n"
     ]
    }
   ],
   "source": [
    "print('There are {} buses in the dataset.'.format(len(feed.entity)))\n",
    "# looking closely at the first bus\n",
    "bus = feed.entity[0]\n"
   ]
  },
  {
   "cell_type": "code",
   "execution_count": 4,
   "metadata": {},
   "outputs": [
    {
     "data": {
      "text/plain": [
       "id: \"1682357970_562519083\"\n",
       "trip_update {\n",
       "  trip {\n",
       "    trip_id: \"562519083\"\n",
       "    route_id: \"100001\"\n",
       "    direction_id: 1\n",
       "    start_date: \"20230424\"\n",
       "  }\n",
       "  vehicle {\n",
       "    id: \"4393\"\n",
       "    label: \"4393\"\n",
       "  }\n",
       "  stop_time_update {\n",
       "    stop_sequence: 83\n",
       "    stop_id: \"2120\"\n",
       "    arrival {\n",
       "      delay: 219\n",
       "      time: 1682357701\n",
       "    }\n",
       "    departure {\n",
       "      delay: 219\n",
       "      time: 1682357701\n",
       "    }\n",
       "  }\n",
       "  stop_time_update {\n",
       "    stop_sequence: 92\n",
       "    stop_id: \"2130\"\n",
       "    arrival {\n",
       "      delay: 219\n",
       "      time: 1682357736\n",
       "    }\n",
       "    departure {\n",
       "      delay: 219\n",
       "      time: 1682357736\n",
       "    }\n",
       "  }\n",
       "  stop_time_update {\n",
       "    stop_sequence: 95\n",
       "    stop_id: \"2140\"\n",
       "    arrival {\n",
       "      delay: 219\n",
       "      time: 1682357772\n",
       "    }\n",
       "    departure {\n",
       "      delay: 219\n",
       "      time: 1682357772\n",
       "    }\n",
       "  }\n",
       "  stop_time_update {\n",
       "    stop_sequence: 105\n",
       "    stop_id: \"2150\"\n",
       "    arrival {\n",
       "      delay: 219\n",
       "      time: 1682357806\n",
       "    }\n",
       "    departure {\n",
       "      delay: 219\n",
       "      time: 1682357806\n",
       "    }\n",
       "  }\n",
       "  stop_time_update {\n",
       "    stop_sequence: 112\n",
       "    stop_id: \"2672\"\n",
       "    arrival {\n",
       "      delay: 219\n",
       "      time: 1682357859\n",
       "    }\n",
       "    departure {\n",
       "      delay: 219\n",
       "      time: 1682357859\n",
       "    }\n",
       "  }\n",
       "  stop_time_update {\n",
       "    stop_sequence: 115\n",
       "    stop_id: \"2180\"\n",
       "    arrival {\n",
       "      delay: 219\n",
       "      time: 1682357927\n",
       "    }\n",
       "    departure {\n",
       "      delay: 219\n",
       "      time: 1682357927\n",
       "    }\n",
       "  }\n",
       "  stop_time_update {\n",
       "    stop_sequence: 118\n",
       "    stop_id: \"2200\"\n",
       "    arrival {\n",
       "      delay: 219\n",
       "      time: 1682358007\n",
       "    }\n",
       "    departure {\n",
       "      delay: 219\n",
       "      time: 1682358007\n",
       "    }\n",
       "  }\n",
       "  stop_time_update {\n",
       "    stop_sequence: 128\n",
       "    stop_id: \"2244\"\n",
       "    arrival {\n",
       "      delay: 219\n",
       "      time: 1682358130\n",
       "    }\n",
       "    departure {\n",
       "      delay: 219\n",
       "      time: 1682358130\n",
       "    }\n",
       "  }\n",
       "  stop_time_update {\n",
       "    stop_sequence: 136\n",
       "    stop_id: \"2220\"\n",
       "    arrival {\n",
       "      delay: 219\n",
       "      time: 1682358219\n",
       "    }\n",
       "    departure {\n",
       "      delay: 219\n",
       "      time: 1682358219\n",
       "    }\n",
       "  }\n",
       "  timestamp: 1682357949\n",
       "}"
      ]
     },
     "execution_count": 4,
     "metadata": {},
     "output_type": "execute_result"
    }
   ],
   "source": [
    "bus"
   ]
  },
  {
   "cell_type": "code",
   "execution_count": 9,
   "metadata": {},
   "outputs": [],
<<<<<<< HEAD
   "source": []
  },
  {
   "cell_type": "code",
   "execution_count": null,
   "metadata": {},
   "outputs": [],
   "source": []
=======
   "source": [
    "df = pd.read_csv('King_County_Tax_Parcel_Centroids_with_select_City_of_Seattle_geographic_overlays.csv', low_memory=False)\n"
   ]
  },
  {
   "cell_type": "code",
   "execution_count": 11,
   "metadata": {},
   "outputs": [],
   "source": [
    "def is_near_single_family_home(df, lat_col, lon_col):\n",
    "    # Get the coordinates of all the single-family homes\n",
    "    single_family_homes = [(lat1, lon1), (lat2, lon2), ...]\n",
    "    \n",
    "    # Check if each location in the dataframe is within 500 meters of any single-family home\n",
    "    for index, row in df.iterrows():\n",
    "        lat = row[lat_col]\n",
    "        lon = row[lon_col]\n",
    "        for home in single_family_homes:\n",
    "            if distance((lat, lon), home).meters <= 500:\n",
    "                return True\n",
    "    return False\n",
    "\n"
   ]
  },
  {
   "cell_type": "code",
   "execution_count": 13,
   "metadata": {},
   "outputs": [
    {
     "data": {
      "text/plain": [
       "array(['Retail Store', 'Apartment', 'Single Family(C/I Use)', 'Duplex',\n",
       "       'Apartment(Mixed Use)', 'Single Family(Res Use/Zone)', 'Triplex',\n",
       "       'Townhouse Plat', 'Tavern/Lounge', 'Vacant(Single-family)',\n",
       "       '4-Plex', 'Church/Welfare/Relig Srvc', 'Single Family(C/I Zone)',\n",
       "       'Condominium(Residential)', 'Unknown', 'Parking(Assoc)',\n",
       "       'Vacant(Multi-family)', 'Condominium(Mixed Use)',\n",
       "       'Utility, Public', 'Bank', 'Office Building',\n",
       "       'Medical/Dental Office', 'School(Public)',\n",
       "       'Right of Way/Utility, Road', 'Park, Public(Zoo/Arbor)',\n",
       "       'Vacant(Industrial)', 'Warehouse', 'Industrial(Gen Purpose)',\n",
       "       'Governmental Service', 'Terminal(Marine/Comm Fish)',\n",
       "       'Industrial(Heavy)', 'Industrial(Lignt)', 'School(Private)',\n",
       "       'Residence Hall/Dorm', 'Vacant(Commercial)', 'Service Building',\n",
       "       'Restaurant(Fast Food)', 'Retail(Discount)', 'Service Station',\n",
       "       'Retail(Line/Strip)', 'Conv Store with Gas',\n",
       "       'Parking(Commercial Lot)', 'Easement', 'Group Home',\n",
       "       'Rooming House', 'Vet/Animal Control Srvc', 'Sport Facility',\n",
       "       'Water Body, Fresh', 'Auto Showroom and Lot', 'Marina',\n",
       "       'Golf Course', 'Apartment(Subsidized)', 'Hotel/Motel',\n",
       "       'Mini Warehouse', 'Mobile Home Park', 'Terminal(Auto/Bus/Other)',\n",
       "       'Shopping Ctr(Nghbrhood)', 'Nursing Home', 'Terminal(Marine)',\n",
       "       'Industrial Park', 'Tideland, 1st Class', 'Club',\n",
       "       'Restaurant/Lounge', 'Historic Prop(Office)', 'Congregate Housing',\n",
       "       'Movie Theater', 'Shell Structure', 'Grocery Store',\n",
       "       'Auditorium//Assembly Bldg', 'Rehabilitation Center',\n",
       "       'Parking(Garage)', 'Utility, Private(Radio/T.V.)',\n",
       "       'Historic Prop(Retail)', 'Historic Prop(Rec/Entertain)',\n",
       "       'Car Wash', 'Art Gallery/Museum/Soc Srvc', 'Retirement Facility',\n",
       "       'Condominium(Office)', 'Apartment(Co-op)',\n",
       "       'Fraternity/Sorority House', 'Mortuary/Cemetery/Crematory',\n",
       "       'Shopping Ctr(Community)', 'Shopping Ctr(Maj Retail)',\n",
       "       'Historic Prop(Residence)', 'Historic Prop(Misc)',\n",
       "       'Post Office/Post Service', 'Mini Lube', 'Bowling Alley',\n",
       "       'Park, Private(Amuse Ctr)', 'Health Club', 'Daycare Center',\n",
       "       'Hospital', 'Houseboat', 'Terminal(Rail)',\n",
       "       'Conv Store without Gas', 'Gas Station', 'Tideland, 2nd Class',\n",
       "       'High Tech/High Flex', 'Mobile Home', 'Retail(Big Box)',\n",
       "       'Historic Prop(Eat/Drink)', 'Transferable Dev Rights',\n",
       "       'Reserve/Wilderness Area', 'Greenhse/Nrsry/Hort Srvc',\n",
       "       'Air Terminal and Hangers', 'River/Creek/Stream',\n",
       "       'Shopping Ctr(Regional)', 'Skating Rink(Ice/Roller)',\n",
       "       'Driving Range', 'Historic Prop(Vacant Land)', 'Bed & Breakfast',\n",
       "       'Historic Prop(Loft/Warehse)', 'Office Park'], dtype=object)"
      ]
     },
     "execution_count": 13,
     "metadata": {},
     "output_type": "execute_result"
    }
   ],
   "source": [
    "df['LAND_USE_CODE'].dtypes\n",
    "df['LAND_USE_CODE'].unique()\n",
    "df['PRES_USE'].unique()\n",
    "\n"
   ]
>>>>>>> parent of 11070be (added python files)
  }
 ],
 "metadata": {
  "kernelspec": {
   "display_name": "Python 3",
   "language": "python",
   "name": "python3"
  },
  "language_info": {
   "codemirror_mode": {
    "name": "ipython",
    "version": 3
   },
   "file_extension": ".py",
   "mimetype": "text/x-python",
   "name": "python",
   "nbconvert_exporter": "python",
   "pygments_lexer": "ipython3",
   "version": "3.11.3"
  },
  "orig_nbformat": 4
 },
 "nbformat": 4,
 "nbformat_minor": 2
}
